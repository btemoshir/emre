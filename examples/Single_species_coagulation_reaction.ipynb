{
 "cells": [
  {
   "cell_type": "markdown",
   "id": "8cbf05d5",
   "metadata": {},
   "source": [
    "## In this notebook we study the following single species coagulation reaction with sopantaneous creation and destruction:\n",
    "\n",
    "\\begin{equation}\n",
    "    A \\leftrightharpoons_{k_2}^{k_1} \\emptyset    \n",
    "\\end{equation}\n",
    "\n",
    "\\begin{equation}\n",
    "    A + A\\rightarrow^{k_3} A    \n",
    "\\end{equation}\n",
    "\n",
    "## Starting from Poisson initial conditions. \n",
    "\n",
    "## We numerically solve the Chemical Master Equation by bouding the state space."
   ]
  },
  {
   "cell_type": "code",
   "execution_count": 1,
   "id": "dece1c58",
   "metadata": {},
   "outputs": [],
   "source": [
    "import numpy as np\n",
    "import matplotlib.pyplot as plt\n",
    "%matplotlib inline\n",
    "import sys\n",
    "\n",
    "sys.path.append('../')\n",
    "sys.path.append('../src')\n",
    "\n",
    "from src import emre\n"
   ]
  },
  {
   "cell_type": "markdown",
   "id": "613bb353",
   "metadata": {},
   "source": [
    "## Setting up the reaction stoichiometry, rates and initial conditions"
   ]
  },
  {
   "cell_type": "code",
   "execution_count": 2,
   "id": "76fb84ad",
   "metadata": {},
   "outputs": [],
   "source": [
    "# Setting up the reactions and the parameters:\n",
    "\n",
    "#Number of species in the reaction system\n",
    "num_species     = 1 \n",
    "\n",
    "#Number of interating reactions in the Hamiltonian\n",
    "num_interaction = 1 \n",
    "\n",
    "#This counts the total number of possible reactions in the system.\n",
    "#We have 2N creation and destruction reactions and the rest interaction reactions\n",
    "num_reactions   = 2*num_species + num_interaction \n",
    "\n",
    "# Rate constants for the reaction system: [k1 is Creation and k2 is Destruction]\n",
    "k1 = np.array([1.]) #len must be equal to num_species\n",
    "k2 = np.array([1.]) #len must be equal to num_species\n",
    "\n",
    "# Interaction reactions:\n",
    "k3 = np.array([1.]) #len must be equal to num_interactions    \n",
    "\n",
    "#Defining the stoichiometry for the reactions\n",
    "s_i,r_i = np.zeros([num_interaction,num_species]),np.zeros([num_interaction,num_species])\n",
    "\n",
    "#Write this for all reactions in the interacting Hamiltonian corresponding to the reaction rate k3\n",
    "s_i[0] = [1] \n",
    "r_i[0] = [2]\n",
    "\n",
    "rxn_par = [k1,k2,k3]\n",
    "\n",
    "#The initial mean concentration of the species\n",
    "initial_values = 4./3.\n"
   ]
  },
  {
   "cell_type": "markdown",
   "id": "67403f55",
   "metadata": {},
   "source": [
    "### Define simulation times"
   ]
  },
  {
   "cell_type": "code",
   "execution_count": 8,
   "id": "15b7c478",
   "metadata": {},
   "outputs": [],
   "source": [
    "tstart = 0.\n",
    "tfinal = 2.\n",
    "tstep = 0.002"
   ]
  },
  {
   "cell_type": "markdown",
   "id": "eff4dc97",
   "metadata": {},
   "source": [
    "### Define the EMRE class using this data"
   ]
  },
  {
   "cell_type": "code",
   "execution_count": 9,
   "id": "f1a0fb85",
   "metadata": {},
   "outputs": [],
   "source": [
    "system = emre.chemical_system_class(num_interaction,num_species,rxn_par,r_i,s_i)"
   ]
  },
  {
   "cell_type": "code",
   "execution_count": 28,
   "id": "565c6165",
   "metadata": {},
   "outputs": [
    {
     "name": "stderr",
     "output_type": "stream",
     "text": [
      "999it [00:08, 119.27it/s]                                                                                                                                        \n"
     ]
    }
   ],
   "source": [
    "emre.initialize_dynamics(system,initial_values,tstart,tfinal,tstep,measureResponse=True,volume=1.)\n",
    "emre.runDynamics(system)"
   ]
  },
  {
   "cell_type": "code",
   "execution_count": 29,
   "id": "c8545df4",
   "metadata": {},
   "outputs": [
    {
     "data": {
      "text/plain": [
       "<matplotlib.legend.Legend at 0x7f29f323d050>"
      ]
     },
     "execution_count": 29,
     "metadata": {},
     "output_type": "execute_result"
    },
    {
     "data": {
      "image/png": "[encoded data removed]",
      "text/plain": [
       "<Figure size 864x216 with 2 Axes>"
      ]
     },
     "metadata": {
      "needs_background": "light"
     },
     "output_type": "display_data"
    }
   ],
   "source": [
    "plt.figure(figsize=(12,3))\n",
    "plt.subplot(121)\n",
    "plt.plot(system.timeGrid,system.y[0],label='Mass action')\n",
    "plt.plot(system.timeGrid,system.y[0]+system.eps[0],label='EMRE')\n",
    "plt.xlabel('time')\n",
    "plt.ylabel('mean')\n",
    "plt.legend()\n",
    "\n",
    "plt.subplot(122)\n",
    "plt.plot(system.timeGrid,system.lna_var[0,0],label='LNA')\n",
    "plt.xlabel('time')\n",
    "plt.ylabel('variance')\n",
    "plt.legend()"
   ]
  },
  {
   "cell_type": "code",
   "execution_count": null,
   "id": "6ad54991",
   "metadata": {},
   "outputs": [],
   "source": [
    "plt.pcolor(system.timeGrid,system.timeGrid,system.resp[0,0])\n",
    "plt.title(r'$ R(t,t^\\prime)$')\n",
    "plt.ylabel(r'$t$')\n",
    "plt.xlabel(r'$t^\\prime$')\n",
    "plt.colorbar()"
   ]
  },
  {
   "cell_type": "code",
   "execution_count": null,
   "id": "85522dcd",
   "metadata": {},
   "outputs": [],
   "source": []
  }
 ],
 "metadata": {
  "kernelspec": {
   "display_name": "Python 3 (ipykernel)",
   "language": "python",
   "name": "python3"
  },
  "language_info": {
   "codemirror_mode": {
    "name": "ipython",
    "version": 3
   },
   "file_extension": ".py",
   "mimetype": "text/x-python",
   "name": "python",
   "nbconvert_exporter": "python",
   "pygments_lexer": "ipython3",
   "version": "3.11.5"
  }
 },
 "nbformat": 4,
 "nbformat_minor": 5
}
